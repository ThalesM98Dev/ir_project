{
 "cells": [
  {
   "metadata": {
    "ExecuteTime": {
     "end_time": "2024-05-08T18:49:13.462110Z",
     "start_time": "2024-05-08T18:45:35.577079Z"
    }
   },
   "cell_type": "code",
   "source": [
    "import ir_datasets\n",
    "dataset = ir_datasets.load(\"argsme/1.0\")\n",
    "for doc in dataset.docs_iter():\n",
    "    doc # namedtuple<doc_id, conclusion, premises, premises_texts, aspects, aspects_names, source_id, source_title, source_url, source_previous_argument_id, source_next_argument_id, source_domain, source_text, source_text_conclusion_start, source_text_conclusion_end, source_text_premise_start, source_text_premise_end, topic, acquisition, date, author, author_image_url, author_organization, author_role, mode>"
   ],
   "id": "351248eee9f9b43f",
   "outputs": [
    {
     "name": "stderr",
     "output_type": "stream",
     "text": [
      "[INFO] [starting] opening zip file\n",
      "[INFO] If you have a local copy of https://zenodo.org/record/3274636/files/argsme.zip, you can symlink it here to avoid downloading it again: C:\\Users\\Thales Mustafa\\.ir_datasets\\downloads\\c2512648f46a403f8e5e1dc96779e357\n",
      "[INFO] [starting] https://zenodo.org/record/3274636/files/argsme.zip\n",
      "[INFO] download error: ('Connection broken: IncompleteRead(1278902 bytes read, 236799162 more expected)', IncompleteRead(1278902 bytes read, 236799162 more expected)). Retrying range \"1277952-\" [2 attempts left]\n",
      "[INFO] download error: ('Connection broken: IncompleteRead(3692294 bytes read, 233107818 more expected)', IncompleteRead(3692294 bytes read, 233107818 more expected)). Retrying range \"4964352-\" [2 attempts left]\n",
      "[INFO] download error: ('Connection broken: IncompleteRead(73044770 bytes read, 160068942 more expected)', IncompleteRead(73044770 bytes read, 160068942 more expected)). Retrying range \"78004224-\" [2 attempts left]\n",
      "[INFO] [finished] https://zenodo.org/record/3274636/files/argsme.zip: [03:35] [238MB] [1.10MB/s]\n",
      "[WARNING] Download failed: [WinError 5] Access is denied: 'C:\\\\Users\\\\THALES~1\\\\AppData\\\\Local\\\\Temp\\\\ir_datasets\\\\tmp0clqsop1.tmp' -> 'C:\\\\Users\\\\THALES~1\\\\AppData\\\\Local\\\\Temp\\\\ir_datasets\\\\tmp0clqsop1'\n",
      "[INFO] [error] opening zip file [03:38]\n"
     ]
    },
    {
     "ename": "PermissionError",
     "evalue": "[WinError 32] The process cannot access the file because it is being used by another process: 'C:\\\\Users\\\\Thales Mustafa\\\\.ir_datasets\\\\argsme\\\\1.0.json.tmp1'",
     "output_type": "error",
     "traceback": [
      "\u001B[1;31m---------------------------------------------------------------------------\u001B[0m",
      "\u001B[1;31mPermissionError\u001B[0m                           Traceback (most recent call last)",
      "File \u001B[1;32m~\\AppData\\Roaming\\Python\\Python311\\site-packages\\ir_datasets\\util\\fileio.py:68\u001B[0m, in \u001B[0;36mCache.verify\u001B[1;34m(self)\u001B[0m\n\u001B[0;32m     67\u001B[0m \u001B[38;5;28;01mtry\u001B[39;00m:\n\u001B[1;32m---> 68\u001B[0m     \u001B[38;5;28;01mwith\u001B[39;00m \u001B[38;5;28mself\u001B[39m\u001B[38;5;241m.\u001B[39m_streamer\u001B[38;5;241m.\u001B[39mstream() \u001B[38;5;28;01mas\u001B[39;00m stream:\n\u001B[0;32m     69\u001B[0m         shutil\u001B[38;5;241m.\u001B[39mcopyfileobj(stream, f)\n",
      "File \u001B[1;32m~\\.conda\\envs\\pythonProject\\Lib\\contextlib.py:137\u001B[0m, in \u001B[0;36m_GeneratorContextManager.__enter__\u001B[1;34m(self)\u001B[0m\n\u001B[0;32m    136\u001B[0m \u001B[38;5;28;01mtry\u001B[39;00m:\n\u001B[1;32m--> 137\u001B[0m     \u001B[38;5;28;01mreturn\u001B[39;00m \u001B[38;5;28mnext\u001B[39m(\u001B[38;5;28mself\u001B[39m\u001B[38;5;241m.\u001B[39mgen)\n\u001B[0;32m    138\u001B[0m \u001B[38;5;28;01mexcept\u001B[39;00m \u001B[38;5;167;01mStopIteration\u001B[39;00m:\n",
      "File \u001B[1;32m~\\AppData\\Roaming\\Python\\Python311\\site-packages\\ir_datasets\\util\\fileio.py:229\u001B[0m, in \u001B[0;36mZipExtract.stream\u001B[1;34m(self)\u001B[0m\n\u001B[0;32m    228\u001B[0m \u001B[38;5;28;01mwith\u001B[39;00m _logger\u001B[38;5;241m.\u001B[39mduration(\u001B[38;5;124m'\u001B[39m\u001B[38;5;124mopening zip file\u001B[39m\u001B[38;5;124m'\u001B[39m):\n\u001B[1;32m--> 229\u001B[0m     zipf \u001B[38;5;241m=\u001B[39m ctxt\u001B[38;5;241m.\u001B[39menter_context(ZipFile(\u001B[38;5;28mself\u001B[39m\u001B[38;5;241m.\u001B[39mpath()))\n\u001B[0;32m    230\u001B[0m     result \u001B[38;5;241m=\u001B[39m zipf\u001B[38;5;241m.\u001B[39mopen(\u001B[38;5;28mself\u001B[39m\u001B[38;5;241m.\u001B[39mzip_path)\n",
      "File \u001B[1;32m~\\AppData\\Roaming\\Python\\Python311\\site-packages\\ir_datasets\\util\\fileio.py:223\u001B[0m, in \u001B[0;36mZipExtract.path\u001B[1;34m(self, force)\u001B[0m\n\u001B[0;32m    222\u001B[0m \u001B[38;5;28;01mdef\u001B[39;00m \u001B[38;5;21mpath\u001B[39m(\u001B[38;5;28mself\u001B[39m, force\u001B[38;5;241m=\u001B[39m\u001B[38;5;28;01mTrue\u001B[39;00m):\n\u001B[1;32m--> 223\u001B[0m     \u001B[38;5;28;01mreturn\u001B[39;00m \u001B[38;5;28mself\u001B[39m\u001B[38;5;241m.\u001B[39mdlc\u001B[38;5;241m.\u001B[39mpath(force)\n",
      "File \u001B[1;32m~\\AppData\\Roaming\\Python\\Python311\\site-packages\\ir_datasets\\util\\download.py:262\u001B[0m, in \u001B[0;36mDownload.path\u001B[1;34m(self, force)\u001B[0m\n\u001B[0;32m    261\u001B[0m \u001B[38;5;28;01mif\u001B[39;00m \u001B[38;5;28mlen\u001B[39m(\u001B[38;5;28mself\u001B[39m\u001B[38;5;241m.\u001B[39mmirrors) \u001B[38;5;241m==\u001B[39m \u001B[38;5;241m2\u001B[39m \u001B[38;5;129;01mand\u001B[39;00m \u001B[38;5;28misinstance\u001B[39m(\u001B[38;5;28mself\u001B[39m\u001B[38;5;241m.\u001B[39mmirrors[\u001B[38;5;241m0\u001B[39m], LocalDownload):\n\u001B[1;32m--> 262\u001B[0m     \u001B[38;5;28;01mraise\u001B[39;00m errors[\u001B[38;5;241m1\u001B[39m][\u001B[38;5;241m1\u001B[39m]\n\u001B[0;32m    263\u001B[0m \u001B[38;5;28;01mraise\u001B[39;00m \u001B[38;5;167;01mRuntimeError\u001B[39;00m(\u001B[38;5;124m'\u001B[39m\u001B[38;5;124mAll download sources failed\u001B[39m\u001B[38;5;124m'\u001B[39m, errors)\n",
      "File \u001B[1;32m~\\AppData\\Roaming\\Python\\Python311\\site-packages\\ir_datasets\\util\\download.py:249\u001B[0m, in \u001B[0;36mDownload.path\u001B[1;34m(self, force)\u001B[0m\n\u001B[0;32m    248\u001B[0m \u001B[38;5;28;01mtry\u001B[39;00m:\n\u001B[1;32m--> 249\u001B[0m     \u001B[38;5;28;01mwith\u001B[39;00m util\u001B[38;5;241m.\u001B[39mfinialized_file(download_path, \u001B[38;5;124m'\u001B[39m\u001B[38;5;124mwb\u001B[39m\u001B[38;5;124m'\u001B[39m) \u001B[38;5;28;01mas\u001B[39;00m f:\n\u001B[0;32m    250\u001B[0m         \u001B[38;5;28;01mwith\u001B[39;00m mirror\u001B[38;5;241m.\u001B[39mstream() \u001B[38;5;28;01mas\u001B[39;00m stream:\n",
      "File \u001B[1;32m~\\.conda\\envs\\pythonProject\\Lib\\contextlib.py:144\u001B[0m, in \u001B[0;36m_GeneratorContextManager.__exit__\u001B[1;34m(self, typ, value, traceback)\u001B[0m\n\u001B[0;32m    143\u001B[0m \u001B[38;5;28;01mtry\u001B[39;00m:\n\u001B[1;32m--> 144\u001B[0m     \u001B[38;5;28mnext\u001B[39m(\u001B[38;5;28mself\u001B[39m\u001B[38;5;241m.\u001B[39mgen)\n\u001B[0;32m    145\u001B[0m \u001B[38;5;28;01mexcept\u001B[39;00m \u001B[38;5;167;01mStopIteration\u001B[39;00m:\n",
      "File \u001B[1;32m~\\AppData\\Roaming\\Python\\Python311\\site-packages\\ir_datasets\\util\\__init__.py:46\u001B[0m, in \u001B[0;36mfinialized_file\u001B[1;34m(path, mode)\u001B[0m\n\u001B[0;32m     45\u001B[0m         \u001B[38;5;28;01myield\u001B[39;00m f\n\u001B[1;32m---> 46\u001B[0m     os\u001B[38;5;241m.\u001B[39mreplace(\u001B[38;5;124mf\u001B[39m\u001B[38;5;124m'\u001B[39m\u001B[38;5;132;01m{\u001B[39;00mpath\u001B[38;5;132;01m}\u001B[39;00m\u001B[38;5;124m.tmp\u001B[39m\u001B[38;5;124m'\u001B[39m, path)\n\u001B[0;32m     47\u001B[0m \u001B[38;5;28;01mexcept\u001B[39;00m:\n",
      "\u001B[1;31mPermissionError\u001B[0m: [WinError 5] Access is denied: 'C:\\\\Users\\\\THALES~1\\\\AppData\\\\Local\\\\Temp\\\\ir_datasets\\\\tmp0clqsop1.tmp' -> 'C:\\\\Users\\\\THALES~1\\\\AppData\\\\Local\\\\Temp\\\\ir_datasets\\\\tmp0clqsop1'",
      "\nDuring handling of the above exception, another exception occurred:\n",
      "\u001B[1;31mPermissionError\u001B[0m                           Traceback (most recent call last)",
      "Cell \u001B[1;32mIn[2], line 3\u001B[0m\n\u001B[0;32m      1\u001B[0m \u001B[38;5;28;01mimport\u001B[39;00m \u001B[38;5;21;01mir_datasets\u001B[39;00m\n\u001B[0;32m      2\u001B[0m dataset \u001B[38;5;241m=\u001B[39m ir_datasets\u001B[38;5;241m.\u001B[39mload(\u001B[38;5;124m\"\u001B[39m\u001B[38;5;124margsme/1.0\u001B[39m\u001B[38;5;124m\"\u001B[39m)\n\u001B[1;32m----> 3\u001B[0m \u001B[38;5;28;01mfor\u001B[39;00m doc \u001B[38;5;129;01min\u001B[39;00m dataset\u001B[38;5;241m.\u001B[39mdocs_iter():\n\u001B[0;32m      4\u001B[0m     doc\n",
      "File \u001B[1;32m~\\AppData\\Roaming\\Python\\Python311\\site-packages\\ir_datasets\\util\\__init__.py:159\u001B[0m, in \u001B[0;36muse_docstore.<locals>.wrapper\u001B[1;34m(self)\u001B[0m\n\u001B[0;32m    157\u001B[0m \u001B[38;5;129m@functools\u001B[39m\u001B[38;5;241m.\u001B[39mwraps(fn)\n\u001B[0;32m    158\u001B[0m \u001B[38;5;28;01mdef\u001B[39;00m \u001B[38;5;21mwrapper\u001B[39m(\u001B[38;5;28mself\u001B[39m):\n\u001B[1;32m--> 159\u001B[0m     docs_store \u001B[38;5;241m=\u001B[39m \u001B[38;5;28mself\u001B[39m\u001B[38;5;241m.\u001B[39mdocs_store()\n\u001B[0;32m    160\u001B[0m     \u001B[38;5;28;01mif\u001B[39;00m docs_store\u001B[38;5;241m.\u001B[39mbuilt():\n\u001B[0;32m    161\u001B[0m         \u001B[38;5;28;01mreturn\u001B[39;00m \u001B[38;5;28miter\u001B[39m(docs_store) \u001B[38;5;66;03m# iterate from the docstore -- really fast\u001B[39;00m\n",
      "File \u001B[1;32m~\\AppData\\Roaming\\Python\\Python311\\site-packages\\ir_datasets\\formats\\argsme.py:395\u001B[0m, in \u001B[0;36mArgsMeDocs.docs_store\u001B[1;34m(self, field)\u001B[0m\n\u001B[0;32m    393\u001B[0m \u001B[38;5;28;01mdef\u001B[39;00m \u001B[38;5;21mdocs_store\u001B[39m(\u001B[38;5;28mself\u001B[39m, field\u001B[38;5;241m=\u001B[39m\u001B[38;5;124m\"\u001B[39m\u001B[38;5;124mdoc_id\u001B[39m\u001B[38;5;124m\"\u001B[39m):\n\u001B[0;32m    394\u001B[0m     \u001B[38;5;28;01mreturn\u001B[39;00m PickleLz4FullStore(\n\u001B[1;32m--> 395\u001B[0m         path\u001B[38;5;241m=\u001B[39m\u001B[38;5;124mf\u001B[39m\u001B[38;5;124m\"\u001B[39m\u001B[38;5;132;01m{\u001B[39;00m\u001B[38;5;28mself\u001B[39m\u001B[38;5;241m.\u001B[39mdocs_path()\u001B[38;5;132;01m}\u001B[39;00m\u001B[38;5;124m.pklz4\u001B[39m\u001B[38;5;124m\"\u001B[39m,\n\u001B[0;32m    396\u001B[0m         init_iter_fn\u001B[38;5;241m=\u001B[39m\u001B[38;5;28mself\u001B[39m\u001B[38;5;241m.\u001B[39mdocs_iter,\n\u001B[0;32m    397\u001B[0m         data_cls\u001B[38;5;241m=\u001B[39m\u001B[38;5;28mself\u001B[39m\u001B[38;5;241m.\u001B[39mdocs_cls(),\n\u001B[0;32m    398\u001B[0m         lookup_field\u001B[38;5;241m=\u001B[39mfield,\n\u001B[0;32m    399\u001B[0m         index_fields\u001B[38;5;241m=\u001B[39m[\u001B[38;5;124m\"\u001B[39m\u001B[38;5;124mdoc_id\u001B[39m\u001B[38;5;124m\"\u001B[39m],\n\u001B[0;32m    400\u001B[0m         count_hint\u001B[38;5;241m=\u001B[39m\u001B[38;5;28mself\u001B[39m\u001B[38;5;241m.\u001B[39m_count_hint,\n\u001B[0;32m    401\u001B[0m     )\n",
      "File \u001B[1;32m~\\AppData\\Roaming\\Python\\Python311\\site-packages\\ir_datasets\\formats\\argsme.py:382\u001B[0m, in \u001B[0;36mArgsMeDocs.docs_path\u001B[1;34m(self)\u001B[0m\n\u001B[0;32m    381\u001B[0m \u001B[38;5;28;01mdef\u001B[39;00m \u001B[38;5;21mdocs_path\u001B[39m(\u001B[38;5;28mself\u001B[39m):\n\u001B[1;32m--> 382\u001B[0m     \u001B[38;5;28;01mreturn\u001B[39;00m \u001B[38;5;28mself\u001B[39m\u001B[38;5;241m.\u001B[39m_source\u001B[38;5;241m.\u001B[39mpath()\n",
      "File \u001B[1;32m~\\AppData\\Roaming\\Python\\Python311\\site-packages\\ir_datasets\\util\\fileio.py:84\u001B[0m, in \u001B[0;36mCache.path\u001B[1;34m(self, force)\u001B[0m\n\u001B[0;32m     82\u001B[0m \u001B[38;5;28;01mdef\u001B[39;00m \u001B[38;5;21mpath\u001B[39m(\u001B[38;5;28mself\u001B[39m, force\u001B[38;5;241m=\u001B[39m\u001B[38;5;28;01mTrue\u001B[39;00m):\n\u001B[0;32m     83\u001B[0m     \u001B[38;5;28;01mif\u001B[39;00m force:\n\u001B[1;32m---> 84\u001B[0m         \u001B[38;5;28mself\u001B[39m\u001B[38;5;241m.\u001B[39mverify()\n\u001B[0;32m     85\u001B[0m     \u001B[38;5;28;01mreturn\u001B[39;00m \u001B[38;5;28mself\u001B[39m\u001B[38;5;241m.\u001B[39m_path\n",
      "File \u001B[1;32m~\\AppData\\Roaming\\Python\\Python311\\site-packages\\ir_datasets\\util\\fileio.py:74\u001B[0m, in \u001B[0;36mCache.verify\u001B[1;34m(self)\u001B[0m\n\u001B[0;32m     72\u001B[0m \u001B[38;5;28;01mfinally\u001B[39;00m:\n\u001B[0;32m     73\u001B[0m     \u001B[38;5;28;01mif\u001B[39;00m Path(f\u001B[38;5;241m.\u001B[39mname)\u001B[38;5;241m.\u001B[39mexists():\n\u001B[1;32m---> 74\u001B[0m         Path(f\u001B[38;5;241m.\u001B[39mname)\u001B[38;5;241m.\u001B[39munlink()\n",
      "File \u001B[1;32m~\\.conda\\envs\\pythonProject\\Lib\\pathlib.py:1147\u001B[0m, in \u001B[0;36mPath.unlink\u001B[1;34m(self, missing_ok)\u001B[0m\n\u001B[0;32m   1142\u001B[0m \u001B[38;5;250m\u001B[39m\u001B[38;5;124;03m\"\"\"\u001B[39;00m\n\u001B[0;32m   1143\u001B[0m \u001B[38;5;124;03mRemove this file or link.\u001B[39;00m\n\u001B[0;32m   1144\u001B[0m \u001B[38;5;124;03mIf the path is a directory, use rmdir() instead.\u001B[39;00m\n\u001B[0;32m   1145\u001B[0m \u001B[38;5;124;03m\"\"\"\u001B[39;00m\n\u001B[0;32m   1146\u001B[0m \u001B[38;5;28;01mtry\u001B[39;00m:\n\u001B[1;32m-> 1147\u001B[0m     os\u001B[38;5;241m.\u001B[39munlink(\u001B[38;5;28mself\u001B[39m)\n\u001B[0;32m   1148\u001B[0m \u001B[38;5;28;01mexcept\u001B[39;00m \u001B[38;5;167;01mFileNotFoundError\u001B[39;00m:\n\u001B[0;32m   1149\u001B[0m     \u001B[38;5;28;01mif\u001B[39;00m \u001B[38;5;129;01mnot\u001B[39;00m missing_ok:\n",
      "\u001B[1;31mPermissionError\u001B[0m: [WinError 32] The process cannot access the file because it is being used by another process: 'C:\\\\Users\\\\Thales Mustafa\\\\.ir_datasets\\\\argsme\\\\1.0.json.tmp1'"
     ]
    }
   ],
   "execution_count": 2
  },
  {
   "metadata": {},
   "cell_type": "code",
   "outputs": [],
   "execution_count": null,
   "source": "",
   "id": "adb6072cd8e80c63"
  }
 ],
 "metadata": {
  "kernelspec": {
   "display_name": "Python 3",
   "language": "python",
   "name": "python3"
  },
  "language_info": {
   "codemirror_mode": {
    "name": "ipython",
    "version": 2
   },
   "file_extension": ".py",
   "mimetype": "text/x-python",
   "name": "python",
   "nbconvert_exporter": "python",
   "pygments_lexer": "ipython2",
   "version": "2.7.6"
  }
 },
 "nbformat": 4,
 "nbformat_minor": 5
}
