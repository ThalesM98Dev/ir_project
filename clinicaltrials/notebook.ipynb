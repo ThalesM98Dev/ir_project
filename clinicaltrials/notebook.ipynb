{
 "cells": [
  {
   "cell_type": "code",
   "execution_count": null,
   "id": "initial_id",
   "metadata": {
    "collapsed": true
   },
   "source": [
    "# Imports\n",
    "import pandas as pd\n",
    "import nltk\n",
    "import re\n",
    "import joblib\n",
    "from sklearn.feature_extraction.text import TfidfVectorizer\n",
    "from nltk.corpus import stopwords\n",
    "from nltk.tokenize import word_tokenize\n",
    "from nltk.stem import PorterStemmer, WordNetLemmatizer\n",
    "\n",
    "# Download necessary NLTK data\n",
    "nltk.download('stopwords')\n",
    "nltk.download('punkt')\n",
    "nltk.download('wordnet')\n"
   ],
   "outputs": []
  },
  {
   "metadata": {},
   "cell_type": "code",
   "execution_count": null,
   "source": [
    "# Load dataset\n",
    "df = pd.read_csv('clinicaltrials_dataset.csv')\n",
    "\n",
    "# Data Preprocess\n",
    "print('is null ? : \\n', df.isnull().sum())\n",
    "print('\\n is duplicated :  ', df.duplicated().sum())\n",
    "print('\\ndata shape :', df.shape)"
   ],
   "id": "ce7eb88dd1bb2b74",
   "outputs": []
  },
  {
   "metadata": {},
   "cell_type": "code",
   "execution_count": null,
   "source": [
    "df.drop_duplicates(inplace=True)\n",
    "df.drop(columns=['condition'], inplace=True)\n",
    "df = df.dropna()"
   ],
   "id": "71a02fc240bd7105",
   "outputs": []
  },
  {
   "metadata": {},
   "cell_type": "code",
   "execution_count": null,
   "source": [
    "# Initialize stopwords, stemmer, and lemmatizer\n",
    "stop_words = set(stopwords.words('english'))\n",
    "stemmer = PorterStemmer()\n",
    "lemmatizer = WordNetLemmatizer()"
   ],
   "id": "43da19a99e89cede",
   "outputs": []
  },
  {
   "metadata": {},
   "cell_type": "code",
   "execution_count": null,
   "source": [
    "# Preprocessing functions\n",
    "def preprocess_text(text, apply_remove_p=True):\n",
    "    text = re.sub(\n",
    "        r'(https?://|ftp://|tinyurl\\.com/)\\S+(\\s|$)|(([a-zA-Z0-9-]+\\.)+(com|org|net|gov|edu|co\\.uk|co\\.in|co\\.[a-z]+))',\n",
    "        ' ', text)\n",
    "    text = re.sub(r'(https?:\\/\\/)?([a-zA-Z0-9-]+\\.)+(com|org|net|gov|edu|co\\.uk|co\\.in|co\\.[a-z]+)', '', text)\n",
    "    text = re.sub(r'(\\w)\\1+', r'\\1', text)\n",
    "    text = re.sub(r'(.)\\1+', r'\\1', text)\n",
    "    text = re.sub(r'[^a-zA-Z0-9\\s]', '', text)\n",
    "    text = re.sub(r'\\s+', ' ', text)\n",
    "    text = re.sub(r'\\d+', '', text)\n",
    "    if apply_remove_p:\n",
    "        text = re.sub(r'(\\w)(\\W+)(\\w)', lambda match: match.group(1) + ' ' + match.group(3).lower(), text)\n",
    "    text = text.lower()\n",
    "    text = re.sub('[%s]' % re.escape(\"\"\"!\"#$%&'()*+,،-./:;<=>؟?@[\\]^_`{|}~|\\•|\\)|\\(\"\"\"), '  ', text)\n",
    "    words = word_tokenize(text)\n",
    "    words = [word for word in words if word.lower() not in stop_words]\n",
    "    words = [lemmatizer.lemmatize(word) for word in words]\n",
    "    words = [stemmer.stem(word) for word in words]\n",
    "    return ' '.join(words)"
   ],
   "id": "63ac02af0f481a89",
   "outputs": []
  },
  {
   "metadata": {},
   "cell_type": "code",
   "execution_count": null,
   "source": [
    "df.loc[:, 'title'] = df['title'].apply(preprocess_text)\n",
    "df.loc[:, 'summary'] = df['summary'].apply(preprocess_text)\n",
    "df.loc[:, 'detailed_description'] = df['detailed_description'].apply(preprocess_text)\n",
    "df.loc[:, 'eligibility'] = df['eligibility'].apply(preprocess_text)"
   ],
   "id": "e9fed57468dd53b4",
   "outputs": []
  },
  {
   "metadata": {},
   "cell_type": "code",
   "execution_count": null,
   "source": [
    "# Save the preprocessed dataset\n",
    "df.to_csv('clinicaltrials_dataset_cleaned.csv', index=False)"
   ],
   "id": "b4ad670999a08298",
   "outputs": []
  },
  {
   "metadata": {},
   "cell_type": "code",
   "execution_count": null,
   "source": [
    "# TF-IDF\n",
    "\n",
    "# Load the preprocessed data\n",
    "csv_file_path = 'argsme_dataset_cleaned.csv'\n",
    "df = pd.read_csv(csv_file_path)\n",
    "\n",
    "# Combine the text from 'premises_texts', 'conclusion', 'source_title', and 'topic' columns\n",
    "df['combined_text'] = df['title'].astype(str) + ' ' + df['summary'].astype(str) + ' ' + df[\n",
    "    'detailed_description'].astype(str) + ' ' + df['eligibility'].astype(str)\n",
    "\n",
    "# Initialize the TF-IDF Vectorizer\n",
    "vectorizer = TfidfVectorizer()\n",
    "\n",
    "# Fit and transform the combined text\n",
    "tfidf_matrix = vectorizer.fit_transform(df['combined_text'])\n",
    "\n",
    "# Save the TF-IDF model and matrix\n",
    "joblib.dump(vectorizer, 'tfidf_vectorizer.pkl')\n",
    "joblib.dump(tfidf_matrix, 'tfidf_matrix.pkl')"
   ],
   "id": "8dd981cb7f8de965",
   "outputs": []
  },
  {
   "metadata": {},
   "cell_type": "code",
   "outputs": [],
   "execution_count": null,
   "source": [
    "# Clustering\n",
    "\n"
   ],
   "id": "3a84d1bbd5514d49"
  }
 ],
 "metadata": {
  "kernelspec": {
   "display_name": "Python 3",
   "language": "python",
   "name": "python3"
  },
  "language_info": {
   "codemirror_mode": {
    "name": "ipython",
    "version": 2
   },
   "file_extension": ".py",
   "mimetype": "text/x-python",
   "name": "python",
   "nbconvert_exporter": "python",
   "pygments_lexer": "ipython2",
   "version": "2.7.6"
  }
 },
 "nbformat": 4,
 "nbformat_minor": 5
}
