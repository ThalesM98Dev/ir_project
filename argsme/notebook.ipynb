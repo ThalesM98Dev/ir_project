{
 "cells": [
  {
   "cell_type": "code",
   "id": "initial_id",
   "metadata": {
    "collapsed": true,
    "ExecuteTime": {
     "end_time": "2024-06-03T16:17:50.306481Z",
     "start_time": "2024-06-03T16:17:47.309152Z"
    }
   },
   "source": [
    "# Imports\n",
    "import pandas as pd\n",
    "import nltk\n",
    "import re\n",
    "import joblib\n",
    "from sklearn.feature_extraction.text import TfidfVectorizer\n",
    "from nltk.corpus import stopwords\n",
    "from nltk.tokenize import word_tokenize\n",
    "from nltk.stem import PorterStemmer, WordNetLemmatizer\n",
    "\n",
    "# Download necessary NLTK data\n",
    "nltk.download('stopwords')\n",
    "nltk.download('punkt')\n",
    "nltk.download('wordnet')\n"
   ],
   "outputs": [
    {
     "name": "stderr",
     "output_type": "stream",
     "text": [
      "[nltk_data] Downloading package stopwords to C:\\Users\\Thales\n",
      "[nltk_data]     Mustafa\\AppData\\Roaming\\nltk_data...\n",
      "[nltk_data]   Package stopwords is already up-to-date!\n",
      "[nltk_data] Downloading package punkt to C:\\Users\\Thales\n",
      "[nltk_data]     Mustafa\\AppData\\Roaming\\nltk_data...\n",
      "[nltk_data]   Package punkt is already up-to-date!\n",
      "[nltk_data] Downloading package wordnet to C:\\Users\\Thales\n",
      "[nltk_data]     Mustafa\\AppData\\Roaming\\nltk_data...\n",
      "[nltk_data]   Package wordnet is already up-to-date!\n"
     ]
    },
    {
     "data": {
      "text/plain": [
       "True"
      ]
     },
     "execution_count": 2,
     "metadata": {},
     "output_type": "execute_result"
    }
   ],
   "execution_count": 2
  },
  {
   "metadata": {
    "ExecuteTime": {
     "end_time": "2024-06-03T16:19:10.120767Z",
     "start_time": "2024-06-03T16:19:10.094500Z"
    }
   },
   "cell_type": "code",
   "source": [
    "# Load dataset\n",
    "df = pd.read_csv('argsme_dataset.csv')\n",
    "\n",
    "# Data Preprocess\n",
    "print('is null ? : \\n', df.isnull().sum())\n",
    "print('\\n is duplicated :  ', df.duplicated().sum())\n",
    "print('\\ndata shape :', df.shape)"
   ],
   "id": "75e3d2c49ebaed7f",
   "outputs": [
    {
     "ename": "AttributeError",
     "evalue": "module 'pandas' has no attribute 'read'",
     "output_type": "error",
     "traceback": [
      "\u001B[1;31m---------------------------------------------------------------------------\u001B[0m",
      "\u001B[1;31mAttributeError\u001B[0m                            Traceback (most recent call last)",
      "Cell \u001B[1;32mIn[9], line 2\u001B[0m\n\u001B[0;32m      1\u001B[0m \u001B[38;5;66;03m# Load dataset\u001B[39;00m\n\u001B[1;32m----> 2\u001B[0m df \u001B[38;5;241m=\u001B[39m pd\u001B[38;5;241m.\u001B[39mread(\u001B[38;5;124m'\u001B[39m\u001B[38;5;124mtfidf_matrix.pkl\u001B[39m\u001B[38;5;124m'\u001B[39m)\n",
      "\u001B[1;31mAttributeError\u001B[0m: module 'pandas' has no attribute 'read'"
     ]
    }
   ],
   "execution_count": 9
  },
  {
   "metadata": {
    "ExecuteTime": {
     "end_time": "2024-06-03T16:18:49.442878Z",
     "start_time": "2024-06-03T16:18:49.428645Z"
    }
   },
   "cell_type": "code",
   "source": "df.head(3)",
   "id": "89631cb6eda81abe",
   "outputs": [
    {
     "data": {
      "text/plain": [
       "                                    doc_id  \\\n",
       "0  c67482ba-2019-04-18T13:32:05Z-00000-000   \n",
       "1  c67482ba-2019-04-18T13:32:05Z-00001-000   \n",
       "2  c67482ba-2019-04-18T13:32:05Z-00002-000   \n",
       "\n",
       "                            conclusion  \\\n",
       "0  contracept form high school student   \n",
       "1  contracept form high school student   \n",
       "2  contracept form high school student   \n",
       "\n",
       "                                      premises_texts  \\\n",
       "0  oppon forfeit everi round none argument answer...   \n",
       "1  propos school fund program condom cost money c...   \n",
       "2  school compel interest provid contracept stude...   \n",
       "\n",
       "                                        source_title  \\\n",
       "0  debat argument contracept form high school stu...   \n",
       "1  debat argument contracept form high school stu...   \n",
       "2  debat argument contracept form high school stu...   \n",
       "\n",
       "                                 topic                acquisition  \\\n",
       "0  contracept form high school student  2019-04-18 13:32:05+00:00   \n",
       "1  contracept form high school student  2019-04-18 13:32:05+00:00   \n",
       "2  contracept form high school student  2019-04-18 13:32:05+00:00   \n",
       "\n",
       "                                       combined_text  \n",
       "0  oppon forfeit everi round none argument answer...  \n",
       "1  propos school fund program condom cost money c...  \n",
       "2  school compel interest provid contracept stude...  "
      ],
      "text/html": [
       "<div>\n",
       "<style scoped>\n",
       "    .dataframe tbody tr th:only-of-type {\n",
       "        vertical-align: middle;\n",
       "    }\n",
       "\n",
       "    .dataframe tbody tr th {\n",
       "        vertical-align: top;\n",
       "    }\n",
       "\n",
       "    .dataframe thead th {\n",
       "        text-align: right;\n",
       "    }\n",
       "</style>\n",
       "<table border=\"1\" class=\"dataframe\">\n",
       "  <thead>\n",
       "    <tr style=\"text-align: right;\">\n",
       "      <th></th>\n",
       "      <th>doc_id</th>\n",
       "      <th>conclusion</th>\n",
       "      <th>premises_texts</th>\n",
       "      <th>source_title</th>\n",
       "      <th>topic</th>\n",
       "      <th>acquisition</th>\n",
       "      <th>combined_text</th>\n",
       "    </tr>\n",
       "  </thead>\n",
       "  <tbody>\n",
       "    <tr>\n",
       "      <th>0</th>\n",
       "      <td>c67482ba-2019-04-18T13:32:05Z-00000-000</td>\n",
       "      <td>contracept form high school student</td>\n",
       "      <td>oppon forfeit everi round none argument answer...</td>\n",
       "      <td>debat argument contracept form high school stu...</td>\n",
       "      <td>contracept form high school student</td>\n",
       "      <td>2019-04-18 13:32:05+00:00</td>\n",
       "      <td>oppon forfeit everi round none argument answer...</td>\n",
       "    </tr>\n",
       "    <tr>\n",
       "      <th>1</th>\n",
       "      <td>c67482ba-2019-04-18T13:32:05Z-00001-000</td>\n",
       "      <td>contracept form high school student</td>\n",
       "      <td>propos school fund program condom cost money c...</td>\n",
       "      <td>debat argument contracept form high school stu...</td>\n",
       "      <td>contracept form high school student</td>\n",
       "      <td>2019-04-18 13:32:05+00:00</td>\n",
       "      <td>propos school fund program condom cost money c...</td>\n",
       "    </tr>\n",
       "    <tr>\n",
       "      <th>2</th>\n",
       "      <td>c67482ba-2019-04-18T13:32:05Z-00002-000</td>\n",
       "      <td>contracept form high school student</td>\n",
       "      <td>school compel interest provid contracept stude...</td>\n",
       "      <td>debat argument contracept form high school stu...</td>\n",
       "      <td>contracept form high school student</td>\n",
       "      <td>2019-04-18 13:32:05+00:00</td>\n",
       "      <td>school compel interest provid contracept stude...</td>\n",
       "    </tr>\n",
       "  </tbody>\n",
       "</table>\n",
       "</div>"
      ]
     },
     "execution_count": 7,
     "metadata": {},
     "output_type": "execute_result"
    }
   ],
   "execution_count": 7
  },
  {
   "metadata": {},
   "cell_type": "code",
   "execution_count": null,
   "source": [
    "df.drop_duplicates(inplace=True)\n",
    "df.drop(\n",
    "    columns=['premises', 'aspects', 'aspects_names', 'source_domain', 'source_text', 'source_text_conclusion_start',\n",
    "             'source_text_conclusion_end', 'source_text_premise_start', 'source_text_premise_end', 'date', 'author',\n",
    "             'source_id', 'source_next_argument_id', 'source_previous_argument_id', 'source_url', 'author_image_url',\n",
    "             'author_organization', 'author_role', 'mode'], inplace=True)\n",
    "df = df.dropna()"
   ],
   "id": "66316d8f6de5e6d1",
   "outputs": []
  },
  {
   "metadata": {},
   "cell_type": "code",
   "execution_count": null,
   "source": [
    "# Initialize stopwords, stemmer, and lemmatizer\n",
    "stop_words = set(stopwords.words('english'))\n",
    "stemmer = PorterStemmer()\n",
    "lemmatizer = WordNetLemmatizer()"
   ],
   "id": "ebd49f0e9a10c6f5",
   "outputs": []
  },
  {
   "metadata": {},
   "cell_type": "code",
   "execution_count": null,
   "source": [
    "# Preprocessing functions\n",
    "def preprocess_text(text, apply_remove_p=True):\n",
    "    text = re.sub(r'(https?://|ftp://|tinyurl\\.com/)\\S+(\\s|$)|(([a-zA-Z0-9-]+\\.)+(com|org|net|gov|edu|co\\.uk|co\\.in|co\\.[a-z]+))', ' ', text)\n",
    "    text = re.sub(r'(https?:\\/\\/)?([a-zA-Z0-9-]+\\.)+(com|org|net|gov|edu|co\\.uk|co\\.in|co\\.[a-z]+)', '', text)\n",
    "    text = re.sub(r'(\\w)\\1+', r'\\1', text)\n",
    "    text = re.sub(r'(.)\\1+', r'\\1', text)\n",
    "    text = re.sub(r'[^a-zA-Z0-9\\s]', '', text)\n",
    "    text = re.sub(r'\\s+', ' ', text)\n",
    "    text = re.sub(r'\\d+', '', text)\n",
    "    if apply_remove_p:\n",
    "        text = re.sub(r'(\\w)(\\W+)(\\w)', lambda match: match.group(1) + ' ' + match.group(3).lower(), text)\n",
    "    text = text.lower()\n",
    "    text = re.sub('[%s]' % re.escape(\"\"\"!\"#$%&'()*+,،-./:;<=>؟?@[\\]^_`{|}~|\\•|\\)|\\(\"\"\"), '  ', text)\n",
    "    words = word_tokenize(text)\n",
    "    words = [word for word in words if word.lower() not in stop_words]\n",
    "    words = [lemmatizer.lemmatize(word) for word in words]\n",
    "    words = [stemmer.stem(word) for word in words]\n",
    "    return ' '.join(words)\n"
   ],
   "id": "bfe7d96558e28e4c",
   "outputs": []
  },
  {
   "metadata": {},
   "cell_type": "code",
   "execution_count": null,
   "source": [
    "df['premises_texts'] = df['premises_texts'].apply(preprocess_text, args=(True,))\n",
    "df['conclusion'] = df['conclusion'].apply(preprocess_text, args=(True,))\n",
    "df['source_title'] = df['source_title'].apply(preprocess_text, args=(False,))\n",
    "df['topic'] = df['topic'].apply(preprocess_text, args=(True,))"
   ],
   "id": "e74b505734a32d8d",
   "outputs": []
  },
  {
   "metadata": {},
   "cell_type": "code",
   "execution_count": null,
   "source": [
    "# Save the preprocessed dataset\n",
    "df.to_csv('argsme_dataset_cleaned.csv', index=False)"
   ],
   "id": "ac94cc8720a2d07",
   "outputs": []
  },
  {
   "metadata": {},
   "cell_type": "code",
   "execution_count": null,
   "source": [
    "# TF-IDF\n",
    "\n",
    "# Load the preprocessed data\n",
    "csv_file_path = 'argsme_dataset_cleaned.csv'\n",
    "df = pd.read_csv(csv_file_path)\n",
    "\n",
    "# Combine the text from 'premises_texts', 'conclusion', 'source_title', and 'topic' columns\n",
    "df['combined_text'] = df['premises_texts'].astype(str) + ' ' + df['conclusion'].astype(str) + ' ' + df['source_title'].astype(str) + ' ' + df['topic'].astype(str)\n",
    "\n",
    "# Initialize the TF-IDF Vectorizer\n",
    "vectorizer = TfidfVectorizer()\n",
    "\n",
    "# Fit and transform the combined text\n",
    "tfidf_matrix = vectorizer.fit_transform(df['combined_text'])\n",
    "\n",
    "# Save the TF-IDF model and matrix\n",
    "joblib.dump(vectorizer, 'tfidf_vectorizer.pkl')\n",
    "joblib.dump(tfidf_matrix, 'tfidf_matrix.pkl')"
   ],
   "id": "90dac894fd2686fa",
   "outputs": []
  },
  {
   "metadata": {},
   "cell_type": "code",
   "outputs": [],
   "execution_count": null,
   "source": [
    "# Clustering\n",
    "\n"
   ],
   "id": "cd90208e891c1a7b"
  },
  {
   "metadata": {},
   "cell_type": "code",
   "outputs": [],
   "execution_count": null,
   "source": "",
   "id": "4f944fdbaed0fc1e"
  }
 ],
 "metadata": {
  "kernelspec": {
   "display_name": "Python 3",
   "language": "python",
   "name": "python3"
  },
  "language_info": {
   "codemirror_mode": {
    "name": "ipython",
    "version": 2
   },
   "file_extension": ".py",
   "mimetype": "text/x-python",
   "name": "python",
   "nbconvert_exporter": "python",
   "pygments_lexer": "ipython2",
   "version": "2.7.6"
  }
 },
 "nbformat": 4,
 "nbformat_minor": 5
}
